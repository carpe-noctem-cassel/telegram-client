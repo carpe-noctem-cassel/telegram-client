{
 "cells": [
  {
   "cell_type": "code",
   "execution_count": 1,
   "metadata": {},
   "outputs": [],
   "source": [
    "import spacy\n",
    "from spacy import displacy"
   ]
  },
  {
   "cell_type": "code",
   "execution_count": 2,
   "metadata": {},
   "outputs": [],
   "source": [
    "nlp = spacy.load('de')\n",
    "doc = nlp(\"Ich brauche einen Kaffee zu meinem Tisch.\")"
   ]
  },
  {
   "cell_type": "code",
   "execution_count": 3,
   "metadata": {},
   "outputs": [
    {
     "name": "stdout",
     "output_type": "stream",
     "text": [
      "Ich sb brauche VERB []\n",
      "brauche ROOT brauche VERB [Ich, Kaffee, .]\n",
      "einen nk Kaffee NOUN []\n",
      "Kaffee oa brauche VERB [einen, zu]\n",
      "zu mnr Kaffee NOUN [Tisch]\n",
      "meinem nk Tisch NOUN []\n",
      "Tisch nk zu ADP [meinem]\n",
      ". punct brauche VERB []\n"
     ]
    }
   ],
   "source": [
    "for token in doc:\n",
    "    print(token.text, token.dep_, token.head.text, token.head.pos_,\n",
    "          [child for child in token.children])"
   ]
  },
  {
   "cell_type": "code",
   "execution_count": 4,
   "metadata": {},
   "outputs": [],
   "source": [
    "for sent_dict in doc.print_tree(light=True):\n",
    "    print(\"ROOT - {}({})  \".format(sent_dict['word'], sent_dict['POS_coarse']))\n",
    "    depth = 0\n",
    "    token_dicts = [(tree_child, depth+1, sent_dict['word'])for tree_child in sent_dict['modifiers']]\n",
    "    while token_dicts:\n",
    "        td = token_dicts[0]\n",
    "        token_dict, token_depth, head_text = td\n",
    "        if token_depth != depth:\n",
    "            print(\"|\\n|\\n\")\n",
    "            depth = token_depth\n",
    "        print(\"{} - {}({})  \".format(head_text, token_dict['word'], token_dict['POS_coarse']))\n",
    "        if token_dict['modifiers']:\n",
    "            token_dicts.extend([(child, depth+1, token_dict['word'])for child in token_dict['modifiers']])\n",
    "        token_dicts.remove(td)"
   ]
  },
  {
   "cell_type": "code",
   "execution_count": 5,
   "metadata": {},
   "outputs": [],
   "source": [
    "#displacy.serve(doc, style='dep')"
   ]
  },
  {
   "cell_type": "code",
   "execution_count": 6,
   "metadata": {},
   "outputs": [],
   "source": [
    "# def show_tree(tree_dict):\n",
    "    \n",
    "#     print(\"{}({})  \".format(tree_dict['word'], tree_dict['POS_coarse']))\n",
    "    \n",
    "#     if tree_dict['modifiers']:\n",
    "#         for tree_child in tree_dict['modifiers']:\n",
    "#             show_tree(tree_child)"
   ]
  },
  {
   "cell_type": "code",
   "execution_count": 8,
   "metadata": {},
   "outputs": [
    {
     "name": "stdout",
     "output_type": "stream",
     "text": [
      "[{'word': 'brauche', 'POS_fine': 'VVFIN', 'POS_coarse': 'VERB', 'arc': 'ROOT', 'modifiers': [{'word': 'Ich', 'lemma': 'ich', 'NE': '', 'POS_fine': 'PPER', 'POS_coarse': 'PRON', 'arc': 'sb', 'modifiers': []}, {'word': 'Kaffee', 'lemma': 'Kaffee', 'NE': '', 'POS_fine': 'NN', 'POS_coarse': 'NOUN', 'arc': 'oa', 'modifiers': [{'word': 'einen', 'lemma': 'ein', 'NE': '', 'POS_fine': 'ART', 'POS_coarse': 'DET', 'arc': 'nk', 'modifiers': []}, {'word': 'zu', 'lemma': 'zu', 'NE': '', 'POS_fine': 'APPR', 'POS_coarse': 'ADP', 'arc': 'mnr', 'modifiers': [{'word': 'Tisch', 'lemma': 'tischen', 'NE': '', 'POS_fine': 'NN', 'POS_coarse': 'NOUN', 'arc': 'nk', 'modifiers': [{'word': 'meinem', 'lemma': 'mein', 'NE': '', 'POS_fine': 'PPOSAT', 'POS_coarse': 'DET', 'arc': 'nk', 'modifiers': []}]}]}]}, {'word': '.', 'lemma': '.', 'NE': '', 'POS_fine': '$.', 'POS_coarse': 'PUNCT', 'arc': 'punct', 'modifiers': []}]}]\n"
     ]
    }
   ],
   "source": [
    "#print(doc.print_tree(light=True))"
   ]
  },
  {
   "cell_type": "code",
   "execution_count": null,
   "metadata": {},
   "outputs": [],
   "source": []
  }
 ],
 "metadata": {
  "kernelspec": {
   "display_name": "Python 3",
   "language": "python",
   "name": "python3"
  },
  "language_info": {
   "codemirror_mode": {
    "name": "ipython",
    "version": 3
   },
   "file_extension": ".py",
   "mimetype": "text/x-python",
   "name": "python",
   "nbconvert_exporter": "python",
   "pygments_lexer": "ipython3",
   "version": "3.6.5"
  }
 },
 "nbformat": 4,
 "nbformat_minor": 2
}
