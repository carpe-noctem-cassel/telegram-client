{
 "cells": [
  {
   "cell_type": "code",
   "execution_count": 1,
   "metadata": {},
   "outputs": [],
   "source": [
    "import spacy\n",
    "from spacy import displacy"
   ]
  },
  {
   "cell_type": "code",
   "execution_count": null,
   "metadata": {},
   "outputs": [],
   "source": [
    "nlp = spacy.load('de')\n",
    "doc = nlp(\"Die Tasse steht auf dem Tisch.\")"
   ]
  },
  {
   "cell_type": "code",
   "execution_count": 3,
   "metadata": {},
   "outputs": [
    {
     "name": "stdout",
     "output_type": "stream",
     "text": [
      "Ich sb brauche VERB []\n",
      "brauche ROOT brauche VERB [Ich, Kaffee, .]\n",
      "einen nk Kaffee NOUN []\n",
      "Kaffee oa brauche VERB [einen, zu]\n",
      "zu mnr Kaffee NOUN [Tisch]\n",
      "meinem nk Tisch NOUN []\n",
      "Tisch nk zu ADP [meinem]\n",
      ". punct brauche VERB []\n"
     ]
    }
   ],
   "source": [
    "for token in doc:\n",
    "    print(token.text, token.dep_, token.head.text, token.head.pos_,\n",
    "          [child for child in token.children])"
   ]
  },
  {
   "cell_type": "code",
   "execution_count": 4,
   "metadata": {},
   "outputs": [
    {
     "name": "stdout",
     "output_type": "stream",
     "text": [
      "ROOT - brauche(VERB)  \n",
      "|\n",
      "|\n",
      "\n",
      "brauche - Ich(PRON)  \n",
      "brauche - Kaffee(NOUN)  \n",
      "brauche - .(PUNCT)  \n",
      "|\n",
      "|\n",
      "\n",
      "Kaffee - einen(DET)  \n",
      "Kaffee - zu(ADP)  \n",
      "|\n",
      "|\n",
      "\n",
      "zu - Tisch(NOUN)  \n",
      "|\n",
      "|\n",
      "\n",
      "Tisch - meinem(DET)  \n"
     ]
    }
   ],
   "source": [
    "for sent_dict in doc.print_tree(light=True):\n",
    "    print(\"ROOT - {}({})  \".format(sent_dict['word'], sent_dict['POS_coarse']))\n",
    "    depth = 0\n",
    "    token_dicts = [(tree_child, depth+1, sent_dict['word'])for tree_child in sent_dict['modifiers']]\n",
    "    while token_dicts:\n",
    "        td = token_dicts[0]\n",
    "        token_dict, token_depth, head_text = td\n",
    "        if token_depth != depth:\n",
    "            print(\"|\\n|\\n\")\n",
    "            depth = token_depth\n",
    "        print(\"{} - {}({})  \".format(head_text, token_dict['word'], token_dict['POS_coarse']))\n",
    "        if token_dict['modifiers']:\n",
    "            token_dicts.extend([(child, depth+1, token_dict['word'])for child in token_dict['modifiers']])\n",
    "        token_dicts.remove(td)"
   ]
  },
  {
   "cell_type": "code",
   "execution_count": 5,
   "metadata": {},
   "outputs": [],
   "source": [
    "#displacy.serve(doc, style='dep')"
   ]
  },
  {
   "cell_type": "code",
   "execution_count": 6,
   "metadata": {},
   "outputs": [],
   "source": [
    "# def show_tree(tree_dict):\n",
    "    \n",
    "#     print(\"{}({})  \".format(tree_dict['word'], tree_dict['POS_coarse']))\n",
    "    \n",
    "#     if tree_dict['modifiers']:\n",
    "#         for tree_child in tree_dict['modifiers']:\n",
    "#             show_tree(tree_child)"
   ]
  },
  {
   "cell_type": "code",
   "execution_count": 7,
   "metadata": {},
   "outputs": [],
   "source": [
    "#print(doc.print_tree(light=True))"
   ]
  },
  {
   "cell_type": "code",
   "execution_count": null,
   "metadata": {},
   "outputs": [],
   "source": []
  }
 ],
 "metadata": {
  "kernelspec": {
   "display_name": "Python 3",
   "language": "python",
   "name": "python3"
  },
  "language_info": {
   "codemirror_mode": {
    "name": "ipython",
    "version": 3
   },
   "file_extension": ".py",
   "mimetype": "text/x-python",
   "name": "python",
   "nbconvert_exporter": "python",
   "pygments_lexer": "ipython3",
   "version": "3.6.5"
  }
 },
 "nbformat": 4,
 "nbformat_minor": 2
}
